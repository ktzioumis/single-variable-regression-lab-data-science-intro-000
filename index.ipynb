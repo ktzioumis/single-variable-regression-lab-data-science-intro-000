{
 "cells": [
  {
   "cell_type": "markdown",
   "metadata": {},
   "source": [
    "### Comedy Show Lab"
   ]
  },
  {
   "cell_type": "markdown",
   "metadata": {},
   "source": [
    "Imagine that you are the producer for a comedy show at your school.  We need you to use knowledge of linear regression to make predictions as to the success of the show."
   ]
  },
  {
   "cell_type": "markdown",
   "metadata": {},
   "source": [
    "### Working through a linear regression "
   ]
  },
  {
   "cell_type": "markdown",
   "metadata": {},
   "source": [
    "The comedy show is trying to figure out how much money to spend on advertising in the student newspaper.  The newspaper tells the show that \n",
    " * For every two dollars spent on advertising, three students attend the show.  \n",
    " * If no money is spent on advertising, no one will attend the show.  \n",
    "\n",
    "Write a linear regression function called `attendance` that shows the relationship between advertising and attendance expressed by the newspaper.  "
   ]
  },
  {
   "cell_type": "code",
   "execution_count": 1,
   "metadata": {},
   "outputs": [],
   "source": [
    "def attendance(advertising):\n",
    "    return advertising*1.5"
   ]
  },
  {
   "cell_type": "code",
   "execution_count": 2,
   "metadata": {},
   "outputs": [
    {
     "data": {
      "text/plain": [
       "150.0"
      ]
     },
     "execution_count": 2,
     "metadata": {},
     "output_type": "execute_result"
    }
   ],
   "source": [
    "attendance(100) # 150"
   ]
  },
  {
   "cell_type": "code",
   "execution_count": 3,
   "metadata": {},
   "outputs": [
    {
     "data": {
      "text/plain": [
       "75.0"
      ]
     },
     "execution_count": 3,
     "metadata": {},
     "output_type": "execute_result"
    }
   ],
   "source": [
    "attendance(50) # 75"
   ]
  },
  {
   "cell_type": "markdown",
   "metadata": {},
   "source": [
    "As the old adage goes, \"Don't ask the barber if you need a haircut!\" Likewise, despite what the student newspaper says, the comedy show knows from experience that they'll still have a crowd even without an advertising budget.  Some of the comedians in the show have friends (believe it or not), and twenty of those friends will show up.  Write a function called `attendance_with_friends` that models the following: \n",
    "\n",
    " *  When the advertising budget is zero, 20 friends still attend\n",
    " * Three additional people attend the show for every two dollars spent on advertising"
   ]
  },
  {
   "cell_type": "code",
   "execution_count": 5,
   "metadata": {},
   "outputs": [],
   "source": [
    "def attendance_with_friends(advertising):\n",
    "    return advertising*1.5+20"
   ]
  },
  {
   "cell_type": "code",
   "execution_count": 6,
   "metadata": {},
   "outputs": [
    {
     "data": {
      "text/plain": [
       "170.0"
      ]
     },
     "execution_count": 6,
     "metadata": {},
     "output_type": "execute_result"
    }
   ],
   "source": [
    "attendance_with_friends(100) # 170"
   ]
  },
  {
   "cell_type": "code",
   "execution_count": 7,
   "metadata": {},
   "outputs": [
    {
     "data": {
      "text/plain": [
       "95.0"
      ]
     },
     "execution_count": 7,
     "metadata": {},
     "output_type": "execute_result"
    }
   ],
   "source": [
    "attendance_with_friends(50) # 95"
   ]
  },
  {
   "cell_type": "markdown",
   "metadata": {},
   "source": [
    "#### Plot it"
   ]
  },
  {
   "cell_type": "markdown",
   "metadata": {},
   "source": [
    "Let's help plot this line so you can get a sense of what your $m$ and $b$ values look like in graph form."
   ]
  },
  {
   "cell_type": "markdown",
   "metadata": {},
   "source": [
    "Our x values can be a list of `initial_sample_budgets`,  equal to a list of our budgets.  And we can use the outputs of our `attendance_with_friends` function to determine the list of `attendance_values`, the attendance at each of those x values."
   ]
  },
  {
   "cell_type": "code",
   "execution_count": 8,
   "metadata": {},
   "outputs": [],
   "source": [
    "initial_sample_budgets = [0, 50, 100]\n",
    "attendance_values = [20, 95, 170]"
   ]
  },
  {
   "cell_type": "markdown",
   "metadata": {},
   "source": [
    "First we import the necessary plotly library, and `graph_obs` function, and setup `plotly` to be used without uploading our plots to its website.\n",
    "\n",
    "Finally, we plot out our regression line using our `attendance_with_friends` function.  Our x values will be the budgets.  For our y values, we need to use our `attendance_with_friends` function to create a list of y-value attendances for every input of x. "
   ]
  },
  {
   "cell_type": "code",
   "execution_count": 9,
   "metadata": {},
   "outputs": [
    {
     "data": {
      "text/html": [
       "<script>requirejs.config({paths: { 'plotly': ['https://cdn.plot.ly/plotly-latest.min']},});if(!window.Plotly) {{require(['plotly'],function(plotly) {window.Plotly=plotly;});}}</script>"
      ],
      "text/vnd.plotly.v1+html": [
       "<script>requirejs.config({paths: { 'plotly': ['https://cdn.plot.ly/plotly-latest.min']},});if(!window.Plotly) {{require(['plotly'],function(plotly) {window.Plotly=plotly;});}}</script>"
      ]
     },
     "metadata": {},
     "output_type": "display_data"
    },
    {
     "data": {
      "application/vnd.plotly.v1+json": {
       "data": [
        {
         "type": "scatter",
         "x": [
          0,
          50,
          100
         ],
         "y": [
          20,
          95,
          170
         ]
        }
       ],
       "layout": {}
      },
      "text/html": [
       "<div id=\"89ab8cce-2955-4387-9af6-edad92748088\" style=\"height: 525px; width: 100%;\" class=\"plotly-graph-div\"></div><script type=\"text/javascript\">require([\"plotly\"], function(Plotly) { window.PLOTLYENV=window.PLOTLYENV || {};window.PLOTLYENV.BASE_URL=\"https://plot.ly\";Plotly.newPlot(\"89ab8cce-2955-4387-9af6-edad92748088\", [{\"type\": \"scatter\", \"x\": [0, 50, 100], \"y\": [20, 95, 170]}], {}, {\"showLink\": true, \"linkText\": \"Export to plot.ly\"})});</script>"
      ],
      "text/vnd.plotly.v1+html": [
       "<div id=\"89ab8cce-2955-4387-9af6-edad92748088\" style=\"height: 525px; width: 100%;\" class=\"plotly-graph-div\"></div><script type=\"text/javascript\">require([\"plotly\"], function(Plotly) { window.PLOTLYENV=window.PLOTLYENV || {};window.PLOTLYENV.BASE_URL=\"https://plot.ly\";Plotly.newPlot(\"89ab8cce-2955-4387-9af6-edad92748088\", [{\"type\": \"scatter\", \"x\": [0, 50, 100], \"y\": [20, 95, 170]}], {}, {\"showLink\": true, \"linkText\": \"Export to plot.ly\"})});</script>"
      ]
     },
     "metadata": {},
     "output_type": "display_data"
    }
   ],
   "source": [
    "import plotly\n",
    "from plotly import graph_objs\n",
    "plotly.offline.init_notebook_mode(connected=True)\n",
    "\n",
    "trace_of_attendance_with_friends = graph_objs.Scatter(\n",
    "    x=initial_sample_budgets,\n",
    "    y=attendance_values,\n",
    ")\n",
    "\n",
    "plotly.offline.iplot([trace_of_attendance_with_friends])"
   ]
  },
  {
   "cell_type": "code",
   "execution_count": 11,
   "metadata": {},
   "outputs": [
    {
     "data": {
      "text/plain": [
       "{'type': 'scatter', 'x': [0, 50, 100], 'y': [20, 95, 170]}"
      ]
     },
     "execution_count": 11,
     "metadata": {},
     "output_type": "execute_result"
    }
   ],
   "source": [
    "trace_of_attendance_with_friends"
   ]
  },
  {
   "cell_type": "markdown",
   "metadata": {},
   "source": [
    "Now let's write a couple functions that we can use going forward.  We'll write a function called `m_b_data` that given a slope of a line, $m$, a y-intercept, $b$, will return a dictionary that has a key of `x` pointing to a list of `x_values`, and a key of `y` that points to a list of `y_values`.  Each $y$ value should be the output of a regression line for the provided $m$ and $b$ values, for each of the provided `x_values`."
   ]
  },
  {
   "cell_type": "code",
   "execution_count": 26,
   "metadata": {},
   "outputs": [],
   "source": [
    "def m_b_data(m, b, x_values):\n"